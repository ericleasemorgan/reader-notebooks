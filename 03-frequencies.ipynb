{
 "cells": [
  {
   "cell_type": "markdown",
   "metadata": {},
   "source": [
    "# Fun with frequencies: More counting & tabulating"
   ]
  },
  {
   "cell_type": "code",
   "execution_count": null,
   "metadata": {},
   "outputs": [],
   "source": [
    "# configure\n",
    "FILE     = 'texts/shakespeare-sonnets.txt'\n",
    "LANGUAGE = 'english'\n",
    "KEYWORDS = [ 'love', 'war', 'man', 'woman', 'god' ]"
   ]
  },
  {
   "cell_type": "code",
   "execution_count": null,
   "metadata": {},
   "outputs": [],
   "source": [
    "# require\n",
    "from nltk import *"
   ]
  },
  {
   "cell_type": "code",
   "execution_count": null,
   "metadata": {},
   "outputs": [],
   "source": [
    "# initilize\n",
    "stopwords = set( corpus.stopwords.words( LANGUAGE ) ) "
   ]
  },
  {
   "cell_type": "code",
   "execution_count": null,
   "metadata": {},
   "outputs": [],
   "source": [
    "# read the given file, tokenize its words, and normalize them\n",
    "data   = open( FILE ).read()\n",
    "tokens = word_tokenize( data )\n",
    "tokens = [ token.lower() for token in tokens if token.isalpha() ]\n",
    "tokens = [ token for token in tokens if token not in stopwords ] "
   ]
  },
  {
   "cell_type": "code",
   "execution_count": null,
   "metadata": {},
   "outputs": [],
   "source": [
    "# count & tabulate each token\n",
    "frequencies = FreqDist( tokens )"
   ]
  },
  {
   "cell_type": "code",
   "execution_count": null,
   "metadata": {},
   "outputs": [],
   "source": [
    "# output the most frequent N tokens\n",
    "N = 5\n",
    "frequencies.most_common( N )"
   ]
  },
  {
   "cell_type": "code",
   "execution_count": null,
   "metadata": {
    "scrolled": true
   },
   "outputs": [],
   "source": [
    "# output an alphabetical list of words appearing only once\n",
    "sorted( frequencies.hapaxes() )"
   ]
  },
  {
   "cell_type": "code",
   "execution_count": null,
   "metadata": {},
   "outputs": [],
   "source": [
    "# plot the frequency of N most frequent words\n",
    "N = 10\n",
    "frequencies.plot( N )"
   ]
  },
  {
   "cell_type": "code",
   "execution_count": null,
   "metadata": {},
   "outputs": [],
   "source": [
    "# re-create the list of tokens to include only the keywords, count them, and plot them\n",
    "tokens = [ token for token in tokens if token in KEYWORDS ] \n",
    "frequencies = FreqDist( tokens )\n",
    "frequencies.plot()"
   ]
  }
 ],
 "metadata": {
  "kernelspec": {
   "display_name": "Python 3",
   "language": "python",
   "name": "python3"
  },
  "language_info": {
   "codemirror_mode": {
    "name": "ipython",
    "version": 3
   },
   "file_extension": ".py",
   "mimetype": "text/x-python",
   "name": "python",
   "nbconvert_exporter": "python",
   "pygments_lexer": "ipython3",
   "version": "3.8.5"
  }
 },
 "nbformat": 4,
 "nbformat_minor": 4
}
