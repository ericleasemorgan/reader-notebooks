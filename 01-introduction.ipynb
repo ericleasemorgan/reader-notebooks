{
 "cells": [
  {
   "cell_type": "markdown",
   "metadata": {},
   "source": [
    "# Introduction\n",
    "\n",
    "Text mining is a thing.\n",
    "\n",
    "And because it is a thing, peopl have an interest in learning about it. These notebooks describe and demonstrate how to do bit of text mining and natural langauge processing, and they use the content of Distant Reader \"study carrels\" as a basis.\n",
    "\n",
    "## Table of contents\n",
    "\n",
    "The notebooks are divided into the following sections:\n",
    "\n",
    "   *  Preface: The why's and thefefore's of these notebooks\n",
    "   *  Introduction: What these notebooks cover\n",
    "   *  Opening files and normalizing the result\n",
    "   *  Counting & tabulating textual features\n",
    "   *  Extracting parts-of-speech\n",
    "   *  Wordclouds: Rudimentary visualizations\n",
    "   \n",
    "---\n",
    "<p style='text-align: right'>\n",
    "Eric Lease Morgan &lt;emorgan@nd.edu&gt;<br />\n",
    "April 11, 2021</p>\n",
    "   "
   ]
  }
 ],
 "metadata": {
  "kernelspec": {
   "display_name": "Python 3",
   "language": "python",
   "name": "python3"
  },
  "language_info": {
   "codemirror_mode": {
    "name": "ipython",
    "version": 3
   },
   "file_extension": ".py",
   "mimetype": "text/x-python",
   "name": "python",
   "nbconvert_exporter": "python",
   "pygments_lexer": "ipython3",
   "version": "3.8.5"
  }
 },
 "nbformat": 4,
 "nbformat_minor": 4
}
