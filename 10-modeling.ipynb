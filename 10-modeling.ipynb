{
 "cells": [
  {
   "cell_type": "code",
   "execution_count": null,
   "metadata": {},
   "outputs": [],
   "source": [
    "# configure; define some constants\n",
    "CARREL = './carrels/augustine-confessions-397/txt'\n",
    "TOPICS = 7\n",
    "SEED   = 42\n"
   ]
  },
  {
   "cell_type": "code",
   "execution_count": null,
   "metadata": {},
   "outputs": [],
   "source": [
    "# require\n",
    "import os\n",
    "from sklearn.feature_extraction.text import CountVectorizer\n",
    "from sklearn.decomposition import LatentDirichletAllocation\n"
   ]
  },
  {
   "cell_type": "code",
   "execution_count": null,
   "metadata": {},
   "outputs": [],
   "source": [
    "# create a list of documents\n",
    "documents = []\n",
    "for file in os.scandir( CARREL ):\n",
    "    \n",
    "    if  ( file.path.endswith( \".txt\" ) ) :\n",
    "        \n",
    "        file = file.path\n",
    "        with open( file ) as handle : documents.append( handle.read() )\n"
   ]
  },
  {
   "cell_type": "code",
   "execution_count": null,
   "metadata": {},
   "outputs": [],
   "source": [
    "# model the documents\n",
    "vectorizer = CountVectorizer( stop_words='english', lowercase=True )\n",
    "matrix     = vectorizer.fit_transform( documents )\n",
    "model      = LatentDirichletAllocation( n_components=TOPICS, random_state=SEED )\n",
    "model.fit( matrix )"
   ]
  },
  {
   "cell_type": "code",
   "execution_count": null,
   "metadata": {},
   "outputs": [],
   "source": [
    "import pyLDAvis.sklearn\n",
    "pyLDAvis.enable_notebook()\n",
    "pyLDAvis.sklearn.prepare( model, matrix, vectorizer )\n"
   ]
  }
 ],
 "metadata": {
  "kernelspec": {
   "display_name": "Python 3",
   "language": "python",
   "name": "python3"
  },
  "language_info": {
   "codemirror_mode": {
    "name": "ipython",
    "version": 3
   },
   "file_extension": ".py",
   "mimetype": "text/x-python",
   "name": "python",
   "nbconvert_exporter": "python",
   "pygments_lexer": "ipython3",
   "version": "3.8.5"
  }
 },
 "nbformat": 4,
 "nbformat_minor": 4
}
