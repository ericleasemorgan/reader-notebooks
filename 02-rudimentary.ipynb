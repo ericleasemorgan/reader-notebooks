{
 "cells": [
  {
   "cell_type": "markdown",
   "metadata": {},
   "source": [
    "# Rudimentary analysis: Using the NLTK to do some simple \"reading\""
   ]
  },
  {
   "cell_type": "markdown",
   "metadata": {},
   "source": [
    "In this notebook, you will define a file for analysis, and the script will output interesting features & characteristics of the text. --Eric Lease Morgan"
   ]
  },
  {
   "cell_type": "code",
   "execution_count": 4,
   "metadata": {},
   "outputs": [],
   "source": [
    "# configure; define some constants\n",
    "CARREL   = 'shakespeare-sonnets'\n",
    "TEMPLATE = './carrels/%s/etc/reader.txt'\n",
    "LANGUAGE = 'english'\n",
    "KEYWORD  = 'love'\n",
    "KEYWORDS = [ 'love', 'war', 'man', 'woman', 'god' ]\n"
   ]
  },
  {
   "cell_type": "code",
   "execution_count": 5,
   "metadata": {},
   "outputs": [],
   "source": [
    "# require\n",
    "from nltk import *\n"
   ]
  },
  {
   "cell_type": "code",
   "execution_count": 6,
   "metadata": {},
   "outputs": [],
   "source": [
    "# read the given file, tokenize it, normalize it, and create an NLTK \"Text object\" from the result\n",
    "file   = TEMPLATE % CARREL\n",
    "data   = open( file ).read()\n",
    "tokens = word_tokenize( data )\n",
    "tokens = [ token.lower() for token in tokens ] \n",
    "text   = Text( tokens )\n"
   ]
  },
  {
   "cell_type": "code",
   "execution_count": 7,
   "metadata": {},
   "outputs": [
    {
     "name": "stdout",
     "output_type": "stream",
     "text": [
      "thou art; mine eye; thou wilt; ten times; thy self; dost thou; tongue-\n",
      "tied; thou hast; thou dost; thou mayst; mine eyes; thou shalt; thine\n",
      "eyes; to- morrow; thy sweet; thou know'st; housewife runs; unperfect\n",
      "actor; unthrifty loveliness; thy beauty\n"
     ]
    }
   ],
   "source": [
    "text.collocations()"
   ]
  },
  {
   "cell_type": "code",
   "execution_count": 8,
   "metadata": {},
   "outputs": [
    {
     "data": {
      "text/plain": [
       "213"
      ]
     },
     "execution_count": 8,
     "metadata": {},
     "output_type": "execute_result"
    }
   ],
   "source": [
    "# count\n",
    "text.count( KEYWORD )"
   ]
  },
  {
   "cell_type": "code",
   "execution_count": 9,
   "metadata": {},
   "outputs": [
    {
     "name": "stdout",
     "output_type": "stream",
     "text": [
      "0.935770143221158\n"
     ]
    }
   ],
   "source": [
    "# compute relative weight percentage of a word (count/total words); to what degree is this word \"significant\"?\n",
    "count      = text.count( KEYWORD )\n",
    "total      = len( tokens )\n",
    "percentage = 100 * count / total\n",
    "print( percentage )"
   ]
  },
  {
   "cell_type": "code",
   "execution_count": 10,
   "metadata": {},
   "outputs": [
    {
     "name": "stdout",
     "output_type": "stream",
     "text": [
      "keyword\tpercentage\n",
      "love\t0.935770143221158\n",
      "war\t0.03514629645901063\n",
      "man\t0.030753009401634303\n",
      "woman\t0.030753009401634303\n",
      "god\t0.017573148229505314\n"
     ]
    }
   ],
   "source": [
    "# compare the relative weights (percentages) of many words; begin by (re-)initializing\n",
    "total       = len( tokens )\n",
    "percentages = {}\n",
    "\n",
    "# process each of the given keywords\n",
    "for keyword in KEYWORDS :\n",
    "    \n",
    "    # calculate\n",
    "    count      = text.count( keyword )\n",
    "    percentage = 100 * count / total\n",
    "    \n",
    "    # update the list of weights\n",
    "    percentages[ keyword ] = percentage\n",
    "\n",
    "# sort the weights by value; very Pythonic\n",
    "percentages = { key:value for key, value in sorted( percentages.items(), key=lambda item:item[ 1 ], reverse=True ) }\n",
    "\n",
    "# output\n",
    "print( \"\\t\".join( ( 'keyword', 'percentage') ) )\n",
    "for keyword in percentages :\n",
    "    percentage = str( percentages[ keyword ] )\n",
    "    print( \"\\t\".join( ( keyword, percentage ) ) )\n"
   ]
  },
  {
   "cell_type": "code",
   "execution_count": 11,
   "metadata": {},
   "outputs": [
    {
     "name": "stdout",
     "output_type": "stream",
     "text": [
      "Displaying 25 of 213 matches:\n",
      "y sweet that smells , if not from my love 's breath ? the purple pride which o\n",
      "ft cheek for complexion dwells in my love 's veins thou hast too grossly dy 'd\n",
      " merit lived in me , that you should love after my death , -- dear love , forg\n",
      "should love after my death , -- dear love , forget me quite , for you in me ca\n",
      "illingly impart : o ! lest your true love may seem false in this that you for \n",
      " may seem false in this that you for love speak well of me untrue , my name be\n",
      "bring forth , and so should you , to love things nothing worth . lxvi . tired \n",
      "ne , save that , to die , i leave my love alone . cxlvi . poor soul , the cent\n",
      " but thou art twice forsworn , to me love swearing ; in act thy bed- vow broke\n",
      " torn , in vowing new hate after new love bearing : but why of two oaths ' bre\n",
      " of thy deep kindness , oaths of thy love , thy truth , thy constancy ; and , \n",
      "ich borrow 'd from this holy fire of love , a dateless lively heat , still to \n",
      "eign cure . but at my mistress ' eye love 's brand new- fired , the boy for tr\n",
      "e ; my mistress ' eyes . cxlvii . my love is as a fever longing still my love \n",
      " love is as a fever longing still my love is as a fever longing still , for th\n",
      "se . my reason , the physician to my love , angry that his prescriptions are n\n",
      "is thou perceiv'st , which makes thy love more strong , to love that well , wh\n",
      "hich makes thy love more strong , to love that well , which thou must leave er\n",
      "le have might , that in black ink my love may still shine bright . lxxi . no l\n",
      "er not the hand that writ it , for i love you so , that i in your sweet though\n",
      "my poor name rehearse ; but let your love even with my life decay ; lest the w\n",
      " you with me after i am gone . cli . love is too young to know what conscience\n",
      "too young to know what conscience is love is too young to know what conscience\n",
      " who knows not conscience is born of love ? then , gentle cheater , urge not m\n",
      " tell my body that he may triumph in love ; flesh stays no farther reason , bu\n"
     ]
    }
   ],
   "source": [
    "# concordance\n",
    "text.concordance( KEYWORD )"
   ]
  },
  {
   "cell_type": "code",
   "execution_count": 12,
   "metadata": {},
   "outputs": [
    {
     "name": "stdout",
     "output_type": "stream",
     "text": [
      "\n",
      "\n",
      "love is as; love is as; love is too; love is too; love is my; love is\n",
      "my; love is not; love is strengthen; love is strengthen; love is\n",
      "merchandiz; love is a; love is as; love is better\n",
      "\n",
      "\n",
      "\n",
      "war is in\n",
      "\n",
      "\n",
      "\n"
     ]
    }
   ],
   "source": [
    "for keyword in sorted( KEYWORDS ) :\n",
    "    pattern = ( '<%s> <is> <.*>' % ( keyword ) )\n",
    "    text.findall( pattern )\n",
    "    print()"
   ]
  },
  {
   "cell_type": "code",
   "execution_count": 13,
   "metadata": {},
   "outputs": [
    {
     "data": {
      "image/png": "[encoded data removed]",
      "text/plain": [
       "<Figure size 432x288 with 1 Axes>"
      ]
     },
     "metadata": {
      "needs_background": "light"
     },
     "output_type": "display_data"
    }
   ],
   "source": [
    "# dispersion plot; where do the keyword appear\n",
    "text.dispersion_plot( KEYWORDS )\n"
   ]
  },
  {
   "cell_type": "code",
   "execution_count": 14,
   "metadata": {
    "scrolled": true
   },
   "outputs": [
    {
     "name": "stdout",
     "output_type": "stream",
     "text": [
      "god\n",
      "canker loss man face journey bliss\n",
      "\n",
      "love\n",
      "heart thee me this name time verse mind will glass all am use thou not\n",
      "for and of to you\n",
      "\n",
      "man\n",
      "canker loss god face journey bliss\n",
      "\n",
      "war\n",
      "love disgrace favour\n",
      "\n",
      "woman\n",
      "\n",
      "\n"
     ]
    }
   ],
   "source": [
    "# similar words\n",
    "for keyword in sorted( KEYWORDS ) :\n",
    "    print( \"%s\" % ( keyword ) )\n",
    "    text.similar( keyword )\n",
    "    print()\n"
   ]
  },
  {
   "cell_type": "code",
   "execution_count": null,
   "metadata": {},
   "outputs": [],
   "source": []
  }
 ],
 "metadata": {
  "kernelspec": {
   "display_name": "Python 3",
   "language": "python",
   "name": "python3"
  },
  "language_info": {
   "codemirror_mode": {
    "name": "ipython",
    "version": 3
   },
   "file_extension": ".py",
   "mimetype": "text/x-python",
   "name": "python",
   "nbconvert_exporter": "python",
   "pygments_lexer": "ipython3",
   "version": "3.8.5"
  }
 },
 "nbformat": 4,
 "nbformat_minor": 4
}
